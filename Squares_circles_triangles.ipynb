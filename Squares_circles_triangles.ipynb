{
 "cells": [
  {
   "cell_type": "markdown",
   "id": "bc9001d3",
   "metadata": {},
   "source": [
    "# ΕΙΔΙΚΟ ΘΕΜΑ"
   ]
  },
  {
   "cell_type": "markdown",
   "id": "8a4521ac",
   "metadata": {},
   "source": [
    "---\n",
    "### Θεόκλητος Τσιφτσής \n",
    "#### ΑΕΜ: 03247"
   ]
  },
  {
   "cell_type": "markdown",
   "id": "c3393f66",
   "metadata": {},
   "source": [
    "---\n",
    "Install & Import Libraries"
   ]
  },
  {
   "cell_type": "code",
   "execution_count": 1,
   "id": "19d71a95",
   "metadata": {},
   "outputs": [
    {
     "name": "stdout",
     "output_type": "stream",
     "text": [
      "Requirement already satisfied: tensorflow in c:\\users\\teots\\appdata\\local\\programs\\python\\python312\\lib\\site-packages (2.20.0)\n",
      "Requirement already satisfied: numpy in c:\\users\\teots\\appdata\\local\\programs\\python\\python312\\lib\\site-packages (2.1.1)\n",
      "Requirement already satisfied: matplotlib in c:\\users\\teots\\appdata\\local\\programs\\python\\python312\\lib\\site-packages (3.9.2)\n",
      "Requirement already satisfied: pillow in c:\\users\\teots\\appdata\\local\\programs\\python\\python312\\lib\\site-packages (10.4.0)\n",
      "Requirement already satisfied: scikit-learn in c:\\users\\teots\\appdata\\local\\programs\\python\\python312\\lib\\site-packages (1.5.2)\n",
      "Requirement already satisfied: absl-py>=1.0.0 in c:\\users\\teots\\appdata\\local\\programs\\python\\python312\\lib\\site-packages (from tensorflow) (2.3.1)\n",
      "Requirement already satisfied: astunparse>=1.6.0 in c:\\users\\teots\\appdata\\local\\programs\\python\\python312\\lib\\site-packages (from tensorflow) (1.6.3)\n",
      "Requirement already satisfied: flatbuffers>=24.3.25 in c:\\users\\teots\\appdata\\local\\programs\\python\\python312\\lib\\site-packages (from tensorflow) (25.2.10)\n",
      "Requirement already satisfied: gast!=0.5.0,!=0.5.1,!=0.5.2,>=0.2.1 in c:\\users\\teots\\appdata\\local\\programs\\python\\python312\\lib\\site-packages (from tensorflow) (0.6.0)\n",
      "Requirement already satisfied: google_pasta>=0.1.1 in c:\\users\\teots\\appdata\\local\\programs\\python\\python312\\lib\\site-packages (from tensorflow) (0.2.0)\n",
      "Requirement already satisfied: libclang>=13.0.0 in c:\\users\\teots\\appdata\\local\\programs\\python\\python312\\lib\\site-packages (from tensorflow) (18.1.1)\n",
      "Requirement already satisfied: opt_einsum>=2.3.2 in c:\\users\\teots\\appdata\\local\\programs\\python\\python312\\lib\\site-packages (from tensorflow) (3.4.0)\n",
      "Requirement already satisfied: packaging in c:\\users\\teots\\appdata\\local\\programs\\python\\python312\\lib\\site-packages (from tensorflow) (24.1)\n",
      "Requirement already satisfied: protobuf>=5.28.0 in c:\\users\\teots\\appdata\\local\\programs\\python\\python312\\lib\\site-packages (from tensorflow) (6.32.0)\n",
      "Requirement already satisfied: requests<3,>=2.21.0 in c:\\users\\teots\\appdata\\local\\programs\\python\\python312\\lib\\site-packages (from tensorflow) (2.32.3)\n",
      "Requirement already satisfied: setuptools in c:\\users\\teots\\appdata\\local\\programs\\python\\python312\\lib\\site-packages (from tensorflow) (75.1.0)\n",
      "Requirement already satisfied: six>=1.12.0 in c:\\users\\teots\\appdata\\local\\programs\\python\\python312\\lib\\site-packages (from tensorflow) (1.16.0)\n",
      "Requirement already satisfied: termcolor>=1.1.0 in c:\\users\\teots\\appdata\\local\\programs\\python\\python312\\lib\\site-packages (from tensorflow) (3.1.0)\n",
      "Requirement already satisfied: typing_extensions>=3.6.6 in c:\\users\\teots\\appdata\\local\\programs\\python\\python312\\lib\\site-packages (from tensorflow) (4.12.2)\n",
      "Requirement already satisfied: wrapt>=1.11.0 in c:\\users\\teots\\appdata\\local\\programs\\python\\python312\\lib\\site-packages (from tensorflow) (1.17.3)\n",
      "Requirement already satisfied: grpcio<2.0,>=1.24.3 in c:\\users\\teots\\appdata\\local\\programs\\python\\python312\\lib\\site-packages (from tensorflow) (1.74.0)\n",
      "Requirement already satisfied: tensorboard~=2.20.0 in c:\\users\\teots\\appdata\\local\\programs\\python\\python312\\lib\\site-packages (from tensorflow) (2.20.0)\n",
      "Requirement already satisfied: keras>=3.10.0 in c:\\users\\teots\\appdata\\local\\programs\\python\\python312\\lib\\site-packages (from tensorflow) (3.11.2)\n",
      "Requirement already satisfied: h5py>=3.11.0 in c:\\users\\teots\\appdata\\local\\programs\\python\\python312\\lib\\site-packages (from tensorflow) (3.14.0)\n",
      "Requirement already satisfied: ml_dtypes<1.0.0,>=0.5.1 in c:\\users\\teots\\appdata\\local\\programs\\python\\python312\\lib\\site-packages (from tensorflow) (0.5.3)\n",
      "Requirement already satisfied: contourpy>=1.0.1 in c:\\users\\teots\\appdata\\local\\programs\\python\\python312\\lib\\site-packages (from matplotlib) (1.3.0)\n",
      "Requirement already satisfied: cycler>=0.10 in c:\\users\\teots\\appdata\\local\\programs\\python\\python312\\lib\\site-packages (from matplotlib) (0.12.1)\n",
      "Requirement already satisfied: fonttools>=4.22.0 in c:\\users\\teots\\appdata\\local\\programs\\python\\python312\\lib\\site-packages (from matplotlib) (4.54.1)\n",
      "Requirement already satisfied: kiwisolver>=1.3.1 in c:\\users\\teots\\appdata\\local\\programs\\python\\python312\\lib\\site-packages (from matplotlib) (1.4.7)\n",
      "Requirement already satisfied: pyparsing>=2.3.1 in c:\\users\\teots\\appdata\\local\\programs\\python\\python312\\lib\\site-packages (from matplotlib) (3.1.4)\n",
      "Requirement already satisfied: python-dateutil>=2.7 in c:\\users\\teots\\appdata\\local\\programs\\python\\python312\\lib\\site-packages (from matplotlib) (2.9.0.post0)\n",
      "Requirement already satisfied: scipy>=1.6.0 in c:\\users\\teots\\appdata\\local\\programs\\python\\python312\\lib\\site-packages (from scikit-learn) (1.14.1)\n",
      "Requirement already satisfied: joblib>=1.2.0 in c:\\users\\teots\\appdata\\local\\programs\\python\\python312\\lib\\site-packages (from scikit-learn) (1.4.2)\n",
      "Requirement already satisfied: threadpoolctl>=3.1.0 in c:\\users\\teots\\appdata\\local\\programs\\python\\python312\\lib\\site-packages (from scikit-learn) (3.5.0)\n",
      "Requirement already satisfied: wheel<1.0,>=0.23.0 in c:\\users\\teots\\appdata\\local\\programs\\python\\python312\\lib\\site-packages (from astunparse>=1.6.0->tensorflow) (0.45.1)\n",
      "Requirement already satisfied: rich in c:\\users\\teots\\appdata\\local\\programs\\python\\python312\\lib\\site-packages (from keras>=3.10.0->tensorflow) (14.1.0)\n",
      "Requirement already satisfied: namex in c:\\users\\teots\\appdata\\local\\programs\\python\\python312\\lib\\site-packages (from keras>=3.10.0->tensorflow) (0.1.0)\n",
      "Requirement already satisfied: optree in c:\\users\\teots\\appdata\\local\\programs\\python\\python312\\lib\\site-packages (from keras>=3.10.0->tensorflow) (0.17.0)\n",
      "Requirement already satisfied: charset-normalizer<4,>=2 in c:\\users\\teots\\appdata\\local\\programs\\python\\python312\\lib\\site-packages (from requests<3,>=2.21.0->tensorflow) (3.3.2)\n",
      "Requirement already satisfied: idna<4,>=2.5 in c:\\users\\teots\\appdata\\local\\programs\\python\\python312\\lib\\site-packages (from requests<3,>=2.21.0->tensorflow) (3.10)\n",
      "Requirement already satisfied: urllib3<3,>=1.21.1 in c:\\users\\teots\\appdata\\local\\programs\\python\\python312\\lib\\site-packages (from requests<3,>=2.21.0->tensorflow) (2.2.3)\n",
      "Requirement already satisfied: certifi>=2017.4.17 in c:\\users\\teots\\appdata\\local\\programs\\python\\python312\\lib\\site-packages (from requests<3,>=2.21.0->tensorflow) (2024.8.30)\n",
      "Requirement already satisfied: markdown>=2.6.8 in c:\\users\\teots\\appdata\\local\\programs\\python\\python312\\lib\\site-packages (from tensorboard~=2.20.0->tensorflow) (3.7)\n",
      "Requirement already satisfied: tensorboard-data-server<0.8.0,>=0.7.0 in c:\\users\\teots\\appdata\\local\\programs\\python\\python312\\lib\\site-packages (from tensorboard~=2.20.0->tensorflow) (0.7.2)\n",
      "Requirement already satisfied: werkzeug>=1.0.1 in c:\\users\\teots\\appdata\\local\\programs\\python\\python312\\lib\\site-packages (from tensorboard~=2.20.0->tensorflow) (3.1.3)\n",
      "Requirement already satisfied: MarkupSafe>=2.1.1 in c:\\users\\teots\\appdata\\local\\programs\\python\\python312\\lib\\site-packages (from werkzeug>=1.0.1->tensorboard~=2.20.0->tensorflow) (2.1.5)\n",
      "Requirement already satisfied: markdown-it-py>=2.2.0 in c:\\users\\teots\\appdata\\local\\programs\\python\\python312\\lib\\site-packages (from rich->keras>=3.10.0->tensorflow) (3.0.0)\n",
      "Requirement already satisfied: pygments<3.0.0,>=2.13.0 in c:\\users\\teots\\appdata\\local\\programs\\python\\python312\\lib\\site-packages (from rich->keras>=3.10.0->tensorflow) (2.18.0)\n",
      "Requirement already satisfied: mdurl~=0.1 in c:\\users\\teots\\appdata\\local\\programs\\python\\python312\\lib\\site-packages (from markdown-it-py>=2.2.0->rich->keras>=3.10.0->tensorflow) (0.1.2)\n"
     ]
    },
    {
     "name": "stderr",
     "output_type": "stream",
     "text": [
      "\n",
      "[notice] A new release of pip is available: 24.2 -> 25.2\n",
      "[notice] To update, run: python.exe -m pip install --upgrade pip\n"
     ]
    }
   ],
   "source": [
    "!pip install tensorflow numpy matplotlib pillow scikit-learn"
   ]
  },
  {
   "cell_type": "code",
   "execution_count": 3,
   "id": "24101f65",
   "metadata": {},
   "outputs": [],
   "source": [
    "import tensorflow as tf\n",
    "import matplotlib.pyplot as plt\n",
    "import numpy as np\n",
    "from PIL import Image\n",
    "import os\n",
    "import shutil\n",
    "import random\n",
    "from sklearn.metrics import classification_report\n",
    "from tensorflow.keras.models import Sequential\n",
    "from tensorflow.keras.layers import Conv2D, MaxPooling2D, Flatten, Dense\n",
    "from tensorflow.keras.preprocessing.image import ImageDataGenerator"
   ]
  },
  {
   "cell_type": "markdown",
   "id": "b6a50fbd",
   "metadata": {},
   "source": [
    "### Split the dataset into test and train folders"
   ]
  },
  {
   "cell_type": "code",
   "execution_count": 11,
   "id": "314555e2",
   "metadata": {},
   "outputs": [
    {
     "name": "stdout",
     "output_type": "stream",
     "text": [
      "train and test split complete. Used 100 images per shape (90 train / 10 test)\n"
     ]
    }
   ],
   "source": [
    "original_dataset = \"../Dataset_original/\"\n",
    "train_dir = \"../Dataset/train/\"\n",
    "test_dir = \"../Dataset/test/\"\n",
    "\n",
    "if os.path.exists(train_dir):\n",
    "    shutil.rmtree(train_dir)\n",
    "if os.path.exists(test_dir):\n",
    "    shutil.rmtree(test_dir)\n",
    "\n",
    "for folder in ['triangles', 'circles', 'squares']:\n",
    "    os.makedirs(os.path.join(train_dir, folder), exist_ok=True)\n",
    "    os.makedirs(os.path.join(test_dir, folder), exist_ok=True)\n",
    "\n",
    "for shape in ['triangles', 'circles', 'squares']:\n",
    "    shape_path = os.path.join(original_dataset, shape)\n",
    "    images = os.listdir(shape_path)\n",
    "    random.shuffle(images)\n",
    "    test_count = int(len(images) * 0.1)\n",
    "\n",
    "    for img in images[:test_count]:\n",
    "        shutil.copy(os.path.join(shape_path, img),\n",
    "                    os.path.join(test_dir, shape, img))\n",
    "\n",
    "    for img in images[test_count:]:\n",
    "        shutil.copy(os.path.join(shape_path, img),\n",
    "                    os.path.join(train_dir, shape, img))\n",
    "\n",
    "print(\"train and test split complete. Used 100 images per shape (90 train / 10 test)\")"
   ]
  },
  {
   "cell_type": "markdown",
   "id": "d1379370",
   "metadata": {},
   "source": [
    "### Model Training and Evaluation using a portion of the dataset for testing (10%)"
   ]
  },
  {
   "cell_type": "code",
   "execution_count": 12,
   "id": "11e2b925",
   "metadata": {},
   "outputs": [
    {
     "name": "stdout",
     "output_type": "stream",
     "text": [
      "Found 216 images belonging to 3 classes.\n",
      "Found 54 images belonging to 3 classes.\n",
      "Class Labels: {0: 'circles', 1: 'squares', 2: 'triangles'}\n",
      "Epoch 1/10\n"
     ]
    },
    {
     "name": "stderr",
     "output_type": "stream",
     "text": [
      "c:\\Users\\teots\\AppData\\Local\\Programs\\Python\\Python312\\Lib\\site-packages\\keras\\src\\layers\\convolutional\\base_conv.py:113: UserWarning: Do not pass an `input_shape`/`input_dim` argument to a layer. When using Sequential models, prefer using an `Input(shape)` object as the first layer in the model instead.\n",
      "  super().__init__(activity_regularizer=activity_regularizer, **kwargs)\n",
      "c:\\Users\\teots\\AppData\\Local\\Programs\\Python\\Python312\\Lib\\site-packages\\keras\\src\\trainers\\data_adapters\\py_dataset_adapter.py:121: UserWarning: Your `PyDataset` class should call `super().__init__(**kwargs)` in its constructor. `**kwargs` can include `workers`, `use_multiprocessing`, `max_queue_size`. Do not pass these arguments to `fit()`, as they will be ignored.\n",
      "  self._warn_if_super_not_called()\n"
     ]
    },
    {
     "name": "stdout",
     "output_type": "stream",
     "text": [
      "\u001b[1m14/14\u001b[0m \u001b[32m━━━━━━━━━━━━━━━━━━━━\u001b[0m\u001b[37m\u001b[0m \u001b[1m2s\u001b[0m 47ms/step - accuracy: 0.3519 - loss: 1.1080 - val_accuracy: 0.3333 - val_loss: 1.1225\n",
      "Epoch 2/10\n",
      "\u001b[1m14/14\u001b[0m \u001b[32m━━━━━━━━━━━━━━━━━━━━\u001b[0m\u001b[37m\u001b[0m \u001b[1m0s\u001b[0m 25ms/step - accuracy: 0.3657 - loss: 1.1070 - val_accuracy: 0.4815 - val_loss: 1.1015\n",
      "Epoch 3/10\n",
      "\u001b[1m14/14\u001b[0m \u001b[32m━━━━━━━━━━━━━━━━━━━━\u001b[0m\u001b[37m\u001b[0m \u001b[1m0s\u001b[0m 20ms/step - accuracy: 0.5000 - loss: 1.0836 - val_accuracy: 0.5185 - val_loss: 1.0559\n",
      "Epoch 4/10\n",
      "\u001b[1m14/14\u001b[0m \u001b[32m━━━━━━━━━━━━━━━━━━━━\u001b[0m\u001b[37m\u001b[0m \u001b[1m0s\u001b[0m 25ms/step - accuracy: 0.5093 - loss: 1.0466 - val_accuracy: 0.5370 - val_loss: 1.0041\n",
      "Epoch 5/10\n",
      "\u001b[1m14/14\u001b[0m \u001b[32m━━━━━━━━━━━━━━━━━━━━\u001b[0m\u001b[37m\u001b[0m \u001b[1m0s\u001b[0m 19ms/step - accuracy: 0.5231 - loss: 0.9998 - val_accuracy: 0.4630 - val_loss: 0.9586\n",
      "Epoch 6/10\n",
      "\u001b[1m14/14\u001b[0m \u001b[32m━━━━━━━━━━━━━━━━━━━━\u001b[0m\u001b[37m\u001b[0m \u001b[1m0s\u001b[0m 19ms/step - accuracy: 0.5833 - loss: 0.9577 - val_accuracy: 0.6481 - val_loss: 0.9361\n",
      "Epoch 7/10\n",
      "\u001b[1m14/14\u001b[0m \u001b[32m━━━━━━━━━━━━━━━━━━━━\u001b[0m\u001b[37m\u001b[0m \u001b[1m0s\u001b[0m 24ms/step - accuracy: 0.5648 - loss: 0.8963 - val_accuracy: 0.5741 - val_loss: 0.8602\n",
      "Epoch 8/10\n",
      "\u001b[1m14/14\u001b[0m \u001b[32m━━━━━━━━━━━━━━━━━━━━\u001b[0m\u001b[37m\u001b[0m \u001b[1m0s\u001b[0m 25ms/step - accuracy: 0.6435 - loss: 0.8441 - val_accuracy: 0.6481 - val_loss: 0.8117\n",
      "Epoch 9/10\n",
      "\u001b[1m14/14\u001b[0m \u001b[32m━━━━━━━━━━━━━━━━━━━━\u001b[0m\u001b[37m\u001b[0m \u001b[1m0s\u001b[0m 20ms/step - accuracy: 0.6944 - loss: 0.7384 - val_accuracy: 0.7407 - val_loss: 0.7187\n",
      "Epoch 10/10\n",
      "\u001b[1m14/14\u001b[0m \u001b[32m━━━━━━━━━━━━━━━━━━━━\u001b[0m\u001b[37m\u001b[0m \u001b[1m0s\u001b[0m 22ms/step - accuracy: 0.7269 - loss: 0.6267 - val_accuracy: 0.7593 - val_loss: 0.5988\n"
     ]
    },
    {
     "name": "stderr",
     "output_type": "stream",
     "text": [
      "WARNING:absl:You are saving your model as an HDF5 file via `model.save()` or `keras.saving.save_model(model)`. This file format is considered legacy. We recommend using instead the native Keras format, e.g. `model.save('my_model.keras')` or `keras.saving.save_model(model, 'my_model.keras')`. \n"
     ]
    },
    {
     "name": "stdout",
     "output_type": "stream",
     "text": [
      "Found 30 images belonging to 3 classes.\n",
      "\u001b[1m2/2\u001b[0m \u001b[32m━━━━━━━━━━━━━━━━━━━━\u001b[0m\u001b[37m\u001b[0m \u001b[1m0s\u001b[0m 25ms/step - accuracy: 0.5000 - loss: 0.8437\n",
      "Final Test Accuracy: 50.00%\n"
     ]
    }
   ],
   "source": [
    "image_size = (28, 28)\n",
    "batch_size = 16\n",
    "train_dir = '../Dataset/train/'\n",
    "test_dir = '../Dataset/test/'\n",
    "\n",
    "datagen = ImageDataGenerator(rescale=1./255, validation_split=0.2)\n",
    "\n",
    "train_generator = datagen.flow_from_directory(\n",
    "    train_dir,\n",
    "    target_size=image_size,\n",
    "    color_mode='rgb',\n",
    "    batch_size=batch_size,\n",
    "    class_mode='categorical',\n",
    "    subset='training',\n",
    "    shuffle=True\n",
    ")\n",
    "\n",
    "val_generator = datagen.flow_from_directory(\n",
    "    train_dir,\n",
    "    target_size=image_size,\n",
    "    color_mode='rgb',\n",
    "    batch_size=batch_size,\n",
    "    class_mode='categorical',\n",
    "    subset='validation',\n",
    "    shuffle=True\n",
    ")\n",
    "\n",
    "class_indices = train_generator.class_indices\n",
    "label_map = {v: k for k, v in class_indices.items()}\n",
    "print(\"Class Labels:\", label_map)\n",
    "\n",
    "# 2 convolutional, 2 pooling kai 2 dense layers mazi me 1 flatten layer\n",
    "# kalo model gia mikres eikones (28x28)\n",
    "model = Sequential([\n",
    "    Conv2D(32, (3,3), activation='relu', input_shape=(28,28,3)),\n",
    "    MaxPooling2D(2,2),\n",
    "    Conv2D(64, (3,3), activation='relu'),\n",
    "    MaxPooling2D(2,2),\n",
    "    Flatten(),\n",
    "    Dense(64, activation='relu'),\n",
    "    Dense(3, activation='softmax')\n",
    "])\n",
    "\n",
    "model.compile(optimizer='adam', loss='categorical_crossentropy', metrics=['accuracy'])\n",
    "\n",
    "history = model.fit(train_generator, validation_data=val_generator, epochs=10)\n",
    "\n",
    "model.save(\"shape_classifier_model.h5\")\n",
    "np.save(\"label_map.npy\", label_map)\n",
    "\n",
    "test_datagen = ImageDataGenerator(rescale=1./255)\n",
    "test_generator = test_datagen.flow_from_directory(\n",
    "    test_dir,\n",
    "    target_size=image_size,\n",
    "    color_mode='rgb',\n",
    "    batch_size=batch_size,\n",
    "    class_mode='categorical',\n",
    "    shuffle=False\n",
    ")\n",
    "\n",
    "loss, accuracy = model.evaluate(test_generator)\n",
    "print(f\"Final Test Accuracy: {accuracy * 100:.2f}%\")"
   ]
  },
  {
   "cell_type": "markdown",
   "id": "1f3231f1",
   "metadata": {},
   "source": [
    "### Final Evaluation and showing misclassifications for model using a portion of the dataset for testing (10%)"
   ]
  },
  {
   "cell_type": "code",
   "execution_count": 2,
   "id": "fffbc629",
   "metadata": {},
   "outputs": [
    {
     "ename": "NameError",
     "evalue": "name 'ImageDataGenerator' is not defined",
     "output_type": "error",
     "traceback": [
      "\u001b[1;31m---------------------------------------------------------------------------\u001b[0m",
      "\u001b[1;31mNameError\u001b[0m                                 Traceback (most recent call last)",
      "Cell \u001b[1;32mIn[2], line 3\u001b[0m\n\u001b[0;32m      1\u001b[0m get_ipython()\u001b[38;5;241m.\u001b[39mrun_line_magic(\u001b[38;5;124m'\u001b[39m\u001b[38;5;124mmatplotlib\u001b[39m\u001b[38;5;124m'\u001b[39m, \u001b[38;5;124m'\u001b[39m\u001b[38;5;124minline\u001b[39m\u001b[38;5;124m'\u001b[39m)\n\u001b[1;32m----> 3\u001b[0m test_datagen \u001b[38;5;241m=\u001b[39m \u001b[43mImageDataGenerator\u001b[49m(rescale\u001b[38;5;241m=\u001b[39m\u001b[38;5;241m1.\u001b[39m\u001b[38;5;241m/\u001b[39m\u001b[38;5;241m255\u001b[39m)\n\u001b[0;32m      4\u001b[0m test_generator \u001b[38;5;241m=\u001b[39m test_datagen\u001b[38;5;241m.\u001b[39mflow_from_directory(\n\u001b[0;32m      5\u001b[0m     test_dir,\n\u001b[0;32m      6\u001b[0m     target_size\u001b[38;5;241m=\u001b[39mimage_size,\n\u001b[1;32m   (...)\u001b[0m\n\u001b[0;32m     10\u001b[0m     shuffle\u001b[38;5;241m=\u001b[39m\u001b[38;5;28;01mFalse\u001b[39;00m\n\u001b[0;32m     11\u001b[0m )\n\u001b[0;32m     13\u001b[0m loss, accuracy \u001b[38;5;241m=\u001b[39m model\u001b[38;5;241m.\u001b[39mevaluate(test_generator)\n",
      "\u001b[1;31mNameError\u001b[0m: name 'ImageDataGenerator' is not defined"
     ]
    }
   ],
   "source": [
    "%matplotlib inline  \n",
    "\n",
    "test_datagen = ImageDataGenerator(rescale=1./255)\n",
    "test_generator = test_datagen.flow_from_directory(\n",
    "    test_dir,\n",
    "    target_size=image_size,\n",
    "    color_mode='rgb',\n",
    "    batch_size=batch_size,\n",
    "    class_mode='categorical',\n",
    "    shuffle=False\n",
    ")\n",
    "\n",
    "loss, accuracy = model.evaluate(test_generator)\n",
    "print(f\"Final Test Accuracy: {accuracy * 100:.2f}%\")\n",
    "\n",
    "test_generator.reset()\n",
    "preds = model.predict(test_generator, verbose=1)\n",
    "\n",
    "y_pred = np.argmax(preds, axis=1)\n",
    "y_true = test_generator.classes\n",
    "class_labels = list(test_generator.class_indices.keys())\n",
    "\n",
    "print(\"\\nClassification Report:\\n\")\n",
    "print(classification_report(y_true, y_pred, target_names=class_labels))\n",
    "\n",
    "misclassified_indices = np.where(y_pred != y_true)[0]\n",
    "print(f\"\\nMisclassified Samples: {len(misclassified_indices)}\")\n",
    "\n",
    "# code gia emfanish ton misclassified samples\n",
    "for idx in misclassified_indices[:10]:\n",
    "    img_path = test_generator.filepaths[idx]\n",
    "    img = Image.open(img_path)\n",
    "    plt.imshow(img)\n",
    "    plt.axis('off')\n",
    "    plt.title(f\"Pred: {class_labels[y_pred[idx]]} | True: {class_labels[y_true[idx]]}\")\n",
    "    plt.show()"
   ]
  },
  {
   "cell_type": "markdown",
   "id": "9e214e01",
   "metadata": {},
   "source": [
    "### Model Training and Evaluation using Synthetic Data along with the old training Data"
   ]
  },
  {
   "cell_type": "markdown",
   "id": "46ecd7bd",
   "metadata": {},
   "source": [
    "#### Code for synthetic data preprocessing"
   ]
  },
  {
   "cell_type": "code",
   "execution_count": 21,
   "id": "99798564",
   "metadata": {},
   "outputs": [
    {
     "name": "stdout",
     "output_type": "stream",
     "text": [
      "Source: ../SyntheticData_28x28\n",
      "Destination: ../Dataset/train_with_synthetic\n",
      "Found 60 synthetic images to organize\n"
     ]
    },
    {
     "name": "stderr",
     "output_type": "stream",
     "text": [
      "Organizing images: 100%|██████████| 60/60 [00:00<00:00, 335.17it/s]"
     ]
    },
    {
     "name": "stdout",
     "output_type": "stream",
     "text": [
      "triangles: 119 images (original + 20 synthetic)"
     ]
    },
    {
     "name": "stderr",
     "output_type": "stream",
     "text": [
      "\n"
     ]
    },
    {
     "name": "stdout",
     "output_type": "stream",
     "text": [
      "\n",
      "circles: 120 images (original + 20 synthetic)\n",
      "squares: 120 images (original + 20 synthetic)\n"
     ]
    },
    {
     "data": {
      "text/plain": [
       "True"
      ]
     },
     "execution_count": 21,
     "metadata": {},
     "output_type": "execute_result"
    }
   ],
   "source": [
    "import os\n",
    "import shutil\n",
    "from tqdm import tqdm\n",
    "\n",
    "def organize_synthetic_data():\n",
    "    synthetic_data_path = \"../SyntheticData_28x28\"\n",
    "    original_train_path = \"../Dataset/train\"\n",
    "    combined_train_path = \"../Dataset/train_with_synthetic\"\n",
    "    \n",
    "    print(f\"Source: {synthetic_data_path}\")\n",
    "    print(f\"Destination: {combined_train_path}\")\n",
    "    \n",
    "    if not os.path.exists(synthetic_data_path):\n",
    "        print(f\"Synthetic data folder not found at {synthetic_data_path}\")\n",
    "        return False\n",
    "    \n",
    "    if not os.path.exists(original_train_path):\n",
    "        print(f\"Original training folder not found at {original_train_path}\")\n",
    "        return False\n",
    "    \n",
    "    for folder in ['triangles', 'circles', 'squares']:\n",
    "        os.makedirs(os.path.join(combined_train_path, folder), exist_ok=True)\n",
    "    \n",
    "    for shape in ['triangles', 'circles', 'squares']:\n",
    "        src_folder = os.path.join(original_train_path, shape)\n",
    "        dst_folder = os.path.join(combined_train_path, shape)\n",
    "        \n",
    "        if os.path.exists(src_folder):\n",
    "            for filename in os.listdir(src_folder):\n",
    "                if filename.lower().endswith(('.png', '.jpg', '.jpeg')):\n",
    "                    src_path = os.path.join(src_folder, filename)\n",
    "                    dst_path = os.path.join(dst_folder, filename)\n",
    "                    shutil.copy2(src_path, dst_path)\n",
    "                    \n",
    "    synthetic_counts = {'circles': 0, 'squares': 0, 'triangles': 0, 'unknown': 0}\n",
    "    \n",
    "    synthetic_images = []\n",
    "    for root, dirs, files in os.walk(synthetic_data_path):\n",
    "        for file in files:\n",
    "            if file.lower().endswith(('.png', '.jpg', '.jpeg')):\n",
    "                synthetic_images.append(os.path.join(root, file))\n",
    "    \n",
    "    print(f\"Found {len(synthetic_images)} synthetic images to organize\")\n",
    "    \n",
    "    for img_path in tqdm(synthetic_images, desc=\"Organizing images\"):\n",
    "        filename = os.path.basename(img_path)\n",
    "        \n",
    "        if 'circle' in filename.lower():\n",
    "            category = 'circles'\n",
    "        elif 'square' in filename.lower():\n",
    "            category = 'squares'\n",
    "        elif 'triangle' in filename.lower():\n",
    "            category = 'triangles'\n",
    "        else:\n",
    "            category = 'unknown'\n",
    "            synthetic_counts['unknown'] += 1\n",
    "            continue\n",
    "        \n",
    "        dst_folder = os.path.join(combined_train_path, category)\n",
    "        dst_path = os.path.join(dst_folder, filename)\n",
    "        \n",
    "        try:\n",
    "            shutil.copy2(img_path, dst_path)\n",
    "            synthetic_counts[category] += 1\n",
    "        except Exception as e:\n",
    "            print(f\"Error copying {filename}: {e}\")\n",
    "    \n",
    "    for shape in ['triangles', 'circles', 'squares']:\n",
    "        folder_path = os.path.join(combined_train_path, shape)\n",
    "        if os.path.exists(folder_path):\n",
    "            total_count = len([f for f in os.listdir(folder_path) if f.lower().endswith(('.png', '.jpg', '.jpeg'))])\n",
    "            print(f\"{shape}: {total_count} images (original + {synthetic_counts[shape]} synthetic)\")\n",
    "        else:\n",
    "            print(f\"{shape}: Folder not found\")\n",
    "    return True\n",
    "\n",
    "organize_synthetic_data()"
   ]
  },
  {
   "cell_type": "code",
   "execution_count": null,
   "id": "6d918476",
   "metadata": {},
   "outputs": [
    {
     "name": "stdout",
     "output_type": "stream",
     "text": [
      "Found 288 images belonging to 3 classes.\n"
     ]
    },
    {
     "name": "stdout",
     "output_type": "stream",
     "text": [
      "Found 71 images belonging to 3 classes.\n",
      "Class Labels (Synthetic): {0: 'circles', 1: 'squares', 2: 'triangles'}\n",
      "Epoch 1/10\n"
     ]
    },
    {
     "name": "stderr",
     "output_type": "stream",
     "text": [
      "c:\\Users\\teots\\AppData\\Local\\Programs\\Python\\Python312\\Lib\\site-packages\\keras\\src\\layers\\convolutional\\base_conv.py:113: UserWarning: Do not pass an `input_shape`/`input_dim` argument to a layer. When using Sequential models, prefer using an `Input(shape)` object as the first layer in the model instead.\n",
      "  super().__init__(activity_regularizer=activity_regularizer, **kwargs)\n",
      "c:\\Users\\teots\\AppData\\Local\\Programs\\Python\\Python312\\Lib\\site-packages\\keras\\src\\trainers\\data_adapters\\py_dataset_adapter.py:121: UserWarning: Your `PyDataset` class should call `super().__init__(**kwargs)` in its constructor. `**kwargs` can include `workers`, `use_multiprocessing`, `max_queue_size`. Do not pass these arguments to `fit()`, as they will be ignored.\n",
      "  self._warn_if_super_not_called()\n"
     ]
    },
    {
     "name": "stdout",
     "output_type": "stream",
     "text": [
      "\u001b[1m18/18\u001b[0m \u001b[32m━━━━━━━━━━━━━━━━━━━━\u001b[0m\u001b[37m\u001b[0m \u001b[1m2s\u001b[0m 44ms/step - accuracy: 0.3611 - loss: 1.1148 - val_accuracy: 0.3803 - val_loss: 1.0966\n",
      "Epoch 2/10\n",
      "\u001b[1m18/18\u001b[0m \u001b[32m━━━━━━━━━━━━━━━━━━━━\u001b[0m\u001b[37m\u001b[0m \u001b[1m0s\u001b[0m 19ms/step - accuracy: 0.3299 - loss: 1.0964 - val_accuracy: 0.4930 - val_loss: 1.0766\n",
      "Epoch 3/10\n",
      "\u001b[1m18/18\u001b[0m \u001b[32m━━━━━━━━━━━━━━━━━━━━\u001b[0m\u001b[37m\u001b[0m \u001b[1m0s\u001b[0m 21ms/step - accuracy: 0.4896 - loss: 1.0695 - val_accuracy: 0.7465 - val_loss: 1.0340\n",
      "Epoch 4/10\n",
      "\u001b[1m18/18\u001b[0m \u001b[32m━━━━━━━━━━━━━━━━━━━━\u001b[0m\u001b[37m\u001b[0m \u001b[1m0s\u001b[0m 20ms/step - accuracy: 0.5556 - loss: 1.0194 - val_accuracy: 0.4648 - val_loss: 0.9772\n",
      "Epoch 5/10\n",
      "\u001b[1m18/18\u001b[0m \u001b[32m━━━━━━━━━━━━━━━━━━━━\u001b[0m\u001b[37m\u001b[0m \u001b[1m0s\u001b[0m 22ms/step - accuracy: 0.5764 - loss: 0.9631 - val_accuracy: 0.6338 - val_loss: 0.8723\n",
      "Epoch 6/10\n",
      "\u001b[1m18/18\u001b[0m \u001b[32m━━━━━━━━━━━━━━━━━━━━\u001b[0m\u001b[37m\u001b[0m \u001b[1m0s\u001b[0m 22ms/step - accuracy: 0.6111 - loss: 0.8591 - val_accuracy: 0.8028 - val_loss: 0.7269\n",
      "Epoch 7/10\n",
      "\u001b[1m18/18\u001b[0m \u001b[32m━━━━━━━━━━━━━━━━━━━━\u001b[0m\u001b[37m\u001b[0m \u001b[1m0s\u001b[0m 18ms/step - accuracy: 0.6806 - loss: 0.7785 - val_accuracy: 0.7746 - val_loss: 0.7161\n",
      "Epoch 8/10\n",
      "\u001b[1m18/18\u001b[0m \u001b[32m━━━━━━━━━━━━━━━━━━━━\u001b[0m\u001b[37m\u001b[0m \u001b[1m0s\u001b[0m 21ms/step - accuracy: 0.6979 - loss: 0.7242 - val_accuracy: 0.8028 - val_loss: 0.6274\n",
      "Epoch 9/10\n",
      "\u001b[1m18/18\u001b[0m \u001b[32m━━━━━━━━━━━━━━━━━━━━\u001b[0m\u001b[37m\u001b[0m \u001b[1m0s\u001b[0m 25ms/step - accuracy: 0.7639 - loss: 0.6188 - val_accuracy: 0.8732 - val_loss: 0.4585\n",
      "Epoch 10/10\n",
      "\u001b[1m18/18\u001b[0m \u001b[32m━━━━━━━━━━━━━━━━━━━━\u001b[0m\u001b[37m\u001b[0m \u001b[1m0s\u001b[0m 22ms/step - accuracy: 0.8090 - loss: 0.5018 - val_accuracy: 0.8873 - val_loss: 0.3640\n"
     ]
    },
    {
     "name": "stderr",
     "output_type": "stream",
     "text": [
      "WARNING:absl:You are saving your model as an HDF5 file via `model.save()` or `keras.saving.save_model(model)`. This file format is considered legacy. We recommend using instead the native Keras format, e.g. `model.save('my_model.keras')` or `keras.saving.save_model(model, 'my_model.keras')`. \n"
     ]
    },
    {
     "name": "stdout",
     "output_type": "stream",
     "text": [
      "Found 30 images belonging to 3 classes.\n",
      "\u001b[1m2/2\u001b[0m \u001b[32m━━━━━━━━━━━━━━━━━━━━\u001b[0m\u001b[37m\u001b[0m \u001b[1m0s\u001b[0m 20ms/step - accuracy: 0.8667 - loss: 0.5006\n",
      "Final Test Accuracy (Synthetic Model): 86.67%\n"
     ]
    }
   ],
   "source": [
    "image_size = (28, 28)\n",
    "batch_size = 16\n",
    "train_dir_synth = '../Dataset/train_with_synthetic/'\n",
    "test_dir = '../Dataset/test/'\n",
    "\n",
    "datagen = ImageDataGenerator(rescale=1./255, validation_split=0.2)\n",
    "\n",
    "train_generator_synth = datagen.flow_from_directory(\n",
    "    train_dir_synth,\n",
    "    target_size=image_size,\n",
    "    color_mode='rgb',\n",
    "    batch_size=batch_size,\n",
    "    class_mode='categorical',\n",
    "    subset='training',\n",
    "    shuffle=True\n",
    ")\n",
    "\n",
    "val_generator_synth = datagen.flow_from_directory(\n",
    "    train_dir_synth,\n",
    "    target_size=image_size,\n",
    "    color_mode='rgb',\n",
    "    batch_size=batch_size,\n",
    "    class_mode='categorical',\n",
    "    subset='validation',\n",
    "    shuffle=True\n",
    ")\n",
    "\n",
    "class_indices_synth = train_generator_synth.class_indices\n",
    "label_map_synth = {v: k for k, v in class_indices_synth.items()}\n",
    "print(\"Class Labels (Synthetic):\", label_map_synth)\n",
    "\n",
    "synthetic_model = Sequential([\n",
    "    Conv2D(32, (3,3), activation='relu', input_shape=(28,28,3)),\n",
    "    MaxPooling2D(2,2),\n",
    "    Conv2D(64, (3,3), activation='relu'),\n",
    "    MaxPooling2D(2,2),\n",
    "    Flatten(),\n",
    "    Dense(64, activation='relu'),\n",
    "    Dense(3, activation='softmax')\n",
    "])\n",
    "\n",
    "synthetic_model.compile(optimizer='adam', loss='categorical_crossentropy', metrics=['accuracy'])\n",
    "\n",
    "synthetic_history = synthetic_model.fit(train_generator_synth, validation_data=val_generator_synth, epochs=10)\n",
    "\n",
    "synthetic_model.save(\"shape_classifier_synthetic_model.h5\")\n",
    "np.save(\"label_map_synthetic.npy\", label_map_synth)\n",
    "\n",
    "test_datagen = ImageDataGenerator(rescale=1./255)\n",
    "test_generator = test_datagen.flow_from_directory(\n",
    "    test_dir,\n",
    "    target_size=image_size,\n",
    "    color_mode='rgb',\n",
    "    batch_size=batch_size,\n",
    "    class_mode='categorical',\n",
    "    shuffle=False\n",
    ")\n",
    "\n",
    "loss, accuracy = synthetic_model.evaluate(test_generator)\n",
    "print(f\"Final Test Accuracy (Synthetic Model): {accuracy * 100:.2f}%\")"
   ]
  },
  {
   "cell_type": "code",
   "execution_count": 17,
   "id": "6a554b82",
   "metadata": {},
   "outputs": [
    {
     "name": "stdout",
     "output_type": "stream",
     "text": [
      "Found 30 images belonging to 3 classes.\n"
     ]
    },
    {
     "name": "stdout",
     "output_type": "stream",
     "text": [
      "\u001b[1m2/2\u001b[0m \u001b[32m━━━━━━━━━━━━━━━━━━━━\u001b[0m\u001b[37m\u001b[0m \u001b[1m0s\u001b[0m 28ms/step - accuracy: 0.8667 - loss: 0.5006\n",
      "Final Test Accuracy (Synthetic Model): 86.67%\n"
     ]
    },
    {
     "name": "stderr",
     "output_type": "stream",
     "text": [
      "c:\\Users\\teots\\AppData\\Local\\Programs\\Python\\Python312\\Lib\\site-packages\\keras\\src\\trainers\\data_adapters\\py_dataset_adapter.py:121: UserWarning: Your `PyDataset` class should call `super().__init__(**kwargs)` in its constructor. `**kwargs` can include `workers`, `use_multiprocessing`, `max_queue_size`. Do not pass these arguments to `fit()`, as they will be ignored.\n",
      "  self._warn_if_super_not_called()\n"
     ]
    },
    {
     "name": "stdout",
     "output_type": "stream",
     "text": [
      "\u001b[1m2/2\u001b[0m \u001b[32m━━━━━━━━━━━━━━━━━━━━\u001b[0m\u001b[37m\u001b[0m \u001b[1m0s\u001b[0m 25ms/step\n",
      "\n",
      "Classification Report (Synthetic Model):\n",
      "\n",
      "              precision    recall  f1-score   support\n",
      "\n",
      "     circles       1.00      0.70      0.82        10\n",
      "     squares       0.90      0.90      0.90        10\n",
      "   triangles       0.77      1.00      0.87        10\n",
      "\n",
      "    accuracy                           0.87        30\n",
      "   macro avg       0.89      0.87      0.86        30\n",
      "weighted avg       0.89      0.87      0.86        30\n",
      "\n",
      "\n",
      "Misclassified Samples: 4\n"
     ]
    },
    {
     "data": {
      "image/png": "[encoded data removed]",
      "text/plain": [
       "<Figure size 640x480 with 1 Axes>"
      ]
     },
     "metadata": {},
     "output_type": "display_data"
    },
    {
     "data": {
      "image/png": "[encoded data removed]",
      "text/plain": [
       "<Figure size 640x480 with 1 Axes>"
      ]
     },
     "metadata": {},
     "output_type": "display_data"
    },
    {
     "data": {
      "image/png": "[encoded data removed]",
      "text/plain": [
       "<Figure size 640x480 with 1 Axes>"
      ]
     },
     "metadata": {},
     "output_type": "display_data"
    },
    {
     "data": {
      "image/png": "[encoded data removed]",
      "text/plain": [
       "<Figure size 640x480 with 1 Axes>"
      ]
     },
     "metadata": {},
     "output_type": "display_data"
    }
   ],
   "source": [
    "%matplotlib inline  \n",
    "\n",
    "test_datagen = ImageDataGenerator(rescale=1./255)\n",
    "test_generator = test_datagen.flow_from_directory(\n",
    "    test_dir,\n",
    "    target_size=image_size,\n",
    "    color_mode='rgb',\n",
    "    batch_size=batch_size,\n",
    "    class_mode='categorical',\n",
    "    shuffle=False\n",
    ")\n",
    "\n",
    "loss, accuracy = synthetic_model.evaluate(test_generator)\n",
    "print(f\"Final Test Accuracy (Synthetic Model): {accuracy * 100:.2f}%\")\n",
    "\n",
    "test_generator.reset()\n",
    "preds = synthetic_model.predict(test_generator, verbose=1)\n",
    "\n",
    "y_pred = np.argmax(preds, axis=1)\n",
    "y_true = test_generator.classes\n",
    "class_labels = list(test_generator.class_indices.keys())\n",
    "\n",
    "print(\"\\nClassification Report (Synthetic Model):\\n\")\n",
    "print(classification_report(y_true, y_pred, target_names=class_labels))\n",
    "\n",
    "misclassified_indices = np.where(y_pred != y_true)[0]\n",
    "print(f\"\\nMisclassified Samples: {len(misclassified_indices)}\")\n",
    "\n",
    "for idx in misclassified_indices[:10]:\n",
    "    img_path = test_generator.filepaths[idx]\n",
    "    img = Image.open(img_path)\n",
    "    plt.imshow(img)\n",
    "    plt.axis('off')\n",
    "    plt.title(f\"Pred: {class_labels[y_pred[idx]]} | True: {class_labels[y_true[idx]]}\")\n",
    "    plt.show()"
   ]
  }
 ],
 "metadata": {
  "kernelspec": {
   "display_name": "Python 3",
   "language": "python",
   "name": "python3"
  },
  "language_info": {
   "codemirror_mode": {
    "name": "ipython",
    "version": 3
   },
   "file_extension": ".py",
   "mimetype": "text/x-python",
   "name": "python",
   "nbconvert_exporter": "python",
   "pygments_lexer": "ipython3",
   "version": "3.12.6"
  }
 },
 "nbformat": 4,
 "nbformat_minor": 5
}
